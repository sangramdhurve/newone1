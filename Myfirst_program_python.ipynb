{
  "nbformat": 4,
  "nbformat_minor": 0,
  "metadata": {
    "colab": {
      "name": "Myfirst_program_python.ipynb",
      "provenance": [],
      "authorship_tag": "ABX9TyNt/NXuFtosnGyaumUFGgOZ",
      "include_colab_link": true
    },
    "kernelspec": {
      "name": "python3",
      "display_name": "Python 3"
    },
    "language_info": {
      "name": "python"
    }
  },
  "cells": [
    {
      "cell_type": "markdown",
      "metadata": {
        "id": "view-in-github",
        "colab_type": "text"
      },
      "source": [
        "<a href=\"https://colab.research.google.com/github/sangramdhurve/newone1/blob/main/Myfirst_program_python.ipynb\" target=\"_parent\"><img src=\"https://colab.research.google.com/assets/colab-badge.svg\" alt=\"Open In Colab\"/></a>"
      ]
    },
    {
      "cell_type": "code",
      "metadata": {
        "colab": {
          "base_uri": "https://localhost:8080/"
        },
        "id": "AsIuTXxlkrN8",
        "outputId": "39d8b28d-57f2-40a6-be45-1b64ededa9ae"
      },
      "source": [
        "name = \"sangram\"\n",
        "occupation = \"AI ER\"\n",
        "age = 25\n",
        "my = \"life is sachin ahirwar\"\n",
        "friend = \"sachin bhai\"\n",
        "print(\"my name is\", name)\n",
        "print(\"my age is\" , age, occupation)\n",
        "print(\"my occupation is\", occupation)\n",
        "print(\"as a friend in this institude\", my)\n",
        "print(\"most powerful man is this class\",friend)"
      ],
      "execution_count": null,
      "outputs": [
        {
          "output_type": "stream",
          "name": "stdout",
          "text": [
            "my name is sangram\n",
            "my age is 25 AI ER\n",
            "my occupation is AI ER\n",
            "as a friend in this institude life is sachin ahirwar\n",
            "most powerful man is this class sachin bhai\n"
          ]
        }
      ]
    },
    {
      "cell_type": "code",
      "metadata": {
        "id": "hh9QW37BqeUm"
      },
      "source": [
        ""
      ],
      "execution_count": null,
      "outputs": []
    }
  ]
}